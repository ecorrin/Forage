{
 "cells": [
  {
   "cell_type": "code",
   "execution_count": 2,
   "id": "c57289f3-fd94-45e9-b71f-e0bf0b43a129",
   "metadata": {},
   "outputs": [
    {
     "ename": "AttributeError",
     "evalue": "module 'folium' has no attribute 'plugins'",
     "output_type": "error",
     "traceback": [
      "\u001b[0;31m---------------------------------------------------------------------------\u001b[0m",
      "\u001b[0;31mAttributeError\u001b[0m                            Traceback (most recent call last)",
      "Cell \u001b[0;32mIn[2], line 5\u001b[0m\n\u001b[1;32m      2\u001b[0m m \u001b[38;5;241m=\u001b[39m folium\u001b[38;5;241m.\u001b[39mMap([\u001b[38;5;241m41.97\u001b[39m, \u001b[38;5;241m2.81\u001b[39m])\n\u001b[1;32m      4\u001b[0m \u001b[38;5;66;03m# the below line adds a marker button to the map which when you click it assesses if the device permits release of location data.\u001b[39;00m\n\u001b[0;32m----> 5\u001b[0m \u001b[43mfolium\u001b[49m\u001b[38;5;241;43m.\u001b[39;49m\u001b[43mplugins\u001b[49m\u001b[38;5;241m.\u001b[39mLocateControl()\u001b[38;5;241m.\u001b[39madd_to(m)\n",
      "\u001b[0;31mAttributeError\u001b[0m: module 'folium' has no attribute 'plugins'"
     ]
    }
   ],
   "source": [
    "import folium\n",
    "m = folium.Map([41.97, 2.81])\n",
    "\n",
    "# the below line adds a marker button to the map which when you click it assesses if the device permits release of location data.\n",
    "folium.plugins.LocateControl().add_to(m)\n"
   ]
  },
  {
   "cell_type": "code",
   "execution_count": 6,
   "id": "2a5438ca-877a-4f5d-8efe-28c4ee1b9964",
   "metadata": {},
   "outputs": [
    {
     "data": {
      "text/plain": [
       "<folium.plugins.locate_control.LocateControl at 0x11d197260>"
      ]
     },
     "execution_count": 6,
     "metadata": {},
     "output_type": "execute_result"
    }
   ],
   "source": [
    "\n",
    "import folium\n",
    "import folium.plugins as plugins\n",
    "\n",
    "\n",
    "\n",
    "\n",
    "\n",
    "m = folium.Map([41.97, 2.81])\n",
    "\n",
    "folium.plugins.LocateControl().add_to(m)"
   ]
  },
  {
   "cell_type": "code",
   "execution_count": null,
   "id": "8a4520ee-75a9-47ca-bcd5-d446a0f49eac",
   "metadata": {},
   "outputs": [],
   "source": []
  }
 ],
 "metadata": {
  "kernelspec": {
   "display_name": "Python 3 (ipykernel)",
   "language": "python",
   "name": "python3"
  },
  "language_info": {
   "codemirror_mode": {
    "name": "ipython",
    "version": 3
   },
   "file_extension": ".py",
   "mimetype": "text/x-python",
   "name": "python",
   "nbconvert_exporter": "python",
   "pygments_lexer": "ipython3",
   "version": "3.12.1"
  }
 },
 "nbformat": 4,
 "nbformat_minor": 5
}
